{
  "nbformat": 4,
  "nbformat_minor": 0,
  "metadata": {
    "colab": {
      "provenance": [],
      "authorship_tag": "ABX9TyMEETxs29Iazcx7+iYiCuSz",
      "include_colab_link": true
    },
    "kernelspec": {
      "name": "python3",
      "display_name": "Python 3"
    },
    "language_info": {
      "name": "python"
    }
  },
  "cells": [
    {
      "cell_type": "markdown",
      "metadata": {
        "id": "view-in-github",
        "colab_type": "text"
      },
      "source": [
        "<a href=\"https://colab.research.google.com/github/nida1khurram/streamlit-demo/blob/main/Lesson1_Arif.ipynb\" target=\"_parent\"><img src=\"https://colab.research.google.com/assets/colab-badge.svg\" alt=\"Open In Colab\"/></a>"
      ]
    },
    {
      "cell_type": "markdown",
      "source": [
        "Bytecode\n",
        "dis module\n",
        "indentation\n"
      ],
      "metadata": {
        "id": "bHSgAJg5ePvi"
      }
    },
    {
      "cell_type": "code",
      "source": [
        "# Correct indentation\n",
        "if True:\n",
        "    print(\"Hello, World!\")\n",
        "    print(\"This is a block of code\")"
      ],
      "metadata": {
        "colab": {
          "base_uri": "https://localhost:8080/"
        },
        "id": "fL8NjB8qeldi",
        "outputId": "04d9e389-31f4-472c-f671-26d26964d518"
      },
      "execution_count": null,
      "outputs": [
        {
          "output_type": "stream",
          "name": "stdout",
          "text": [
            "Hello, World!\n",
            "This is a block of code\n"
          ]
        }
      ]
    },
    {
      "cell_type": "markdown",
      "source": [
        "Python is a Dynamically-Typed Language with Optional Type Hinting"
      ],
      "metadata": {
        "id": "vg0jKSBve_Nj"
      }
    },
    {
      "cell_type": "code",
      "source": [
        "age: int = input(\"Enter your age: \")\n",
        "print(f\"Your age is {age}\")\n",
        "\n",
        "print(\"type(age) = \", type(age))"
      ],
      "metadata": {
        "id": "vif8tIccfAOy"
      },
      "execution_count": null,
      "outputs": []
    },
    {
      "cell_type": "markdown",
      "source": [
        "Input"
      ],
      "metadata": {
        "id": "2qDcVXZIp1sn"
      }
    },
    {
      "cell_type": "code",
      "source": [
        "age:int = input(\"Plz Enter your age\")\n",
        "print(f\"Your age is : {age}\")"
      ],
      "metadata": {
        "colab": {
          "base_uri": "https://localhost:8080/"
        },
        "id": "MRhSahkNp0y3",
        "outputId": "6c33628e-56d0-464f-8424-8b19ab3fe783"
      },
      "execution_count": null,
      "outputs": [
        {
          "output_type": "stream",
          "name": "stdout",
          "text": [
            "Plz Enter your ageabgf\n",
            "Your age is : abgf\n"
          ]
        }
      ]
    },
    {
      "cell_type": "code",
      "source": [],
      "metadata": {
        "colab": {
          "base_uri": "https://localhost:8080/"
        },
        "id": "5SEGxr0zquGf",
        "outputId": "9bc6ac30-10b7-4a6c-e384-4dbe588c0a8c"
      },
      "execution_count": null,
      "outputs": [
        {
          "output_type": "stream",
          "name": "stdout",
          "text": [
            "Hello, Alice!\n"
          ]
        }
      ]
    },
    {
      "cell_type": "markdown",
      "source": [
        "if condition"
      ],
      "metadata": {
        "id": "DmJJwueTtap5"
      }
    },
    {
      "cell_type": "code",
      "source": [
        "age = 18\n",
        "if age > 18 and age < 30:\n",
        "  print(\"you are young\")\n",
        "elif age > 30 and age < 50:\n",
        "  print(\"you are old\")\n",
        "else:\n",
        "    print(\"you are child\")"
      ],
      "metadata": {
        "colab": {
          "base_uri": "https://localhost:8080/"
        },
        "id": "XkbE226TtdVQ",
        "outputId": "89813172-230b-44c2-87dd-0e2ee6d380c2"
      },
      "execution_count": null,
      "outputs": [
        {
          "output_type": "stream",
          "name": "stdout",
          "text": [
            "you are child\n"
          ]
        }
      ]
    },
    {
      "cell_type": "markdown",
      "source": [
        "function"
      ],
      "metadata": {
        "id": "1Za3b30FxpeB"
      }
    },
    {
      "cell_type": "code",
      "source": [
        "def hello():\n",
        "    print(\"Hello, World!\")\n",
        "\n",
        "# Call the function\n",
        "hello()"
      ],
      "metadata": {
        "colab": {
          "base_uri": "https://localhost:8080/"
        },
        "id": "JPd0PXhkxrUA",
        "outputId": "9c47f0ea-8553-42c2-a82c-9c5c5a0742c7"
      },
      "execution_count": null,
      "outputs": [
        {
          "output_type": "stream",
          "name": "stdout",
          "text": [
            "Hello, World!\n"
          ]
        }
      ]
    },
    {
      "cell_type": "code",
      "source": [
        "def hello(name=\"World\"):\n",
        "    print(f\"Hello, {name}!\")\n",
        "\n",
        "# Call the function with a custom name\n",
        "hello(\"Nida\")\n",
        "\n",
        "# Call the function without a custom name (uses the default)\n",
        "hello()"
      ],
      "metadata": {
        "colab": {
          "base_uri": "https://localhost:8080/"
        },
        "id": "RDrgFEjuxx1I",
        "outputId": "b4e2296b-f95d-4a05-9c12-b9ebe9fd1c92"
      },
      "execution_count": null,
      "outputs": [
        {
          "output_type": "stream",
          "name": "stdout",
          "text": [
            "Hello, Nida!\n",
            "Hello, World!\n"
          ]
        }
      ]
    },
    {
      "cell_type": "code",
      "source": [
        "def hello(name=\"Nida\"):\n",
        "    print(f\"Hello, {name}!\")\n",
        "hello()"
      ],
      "metadata": {
        "colab": {
          "base_uri": "https://localhost:8080/"
        },
        "id": "5z4_SOzQyfXy",
        "outputId": "873fe28e-3d66-449f-dd82-221986c2a6a4"
      },
      "execution_count": null,
      "outputs": [
        {
          "output_type": "stream",
          "name": "stdout",
          "text": [
            "Hello, Nida!\n"
          ]
        }
      ]
    },
    {
      "cell_type": "code",
      "source": [
        "def greet(name):\n",
        "  print(f\"hello from {name}\")\n",
        "  return \"print from function\"\n",
        "returned_value = greet(\"nida\")\n",
        "print(returned_value)"
      ],
      "metadata": {
        "colab": {
          "base_uri": "https://localhost:8080/"
        },
        "id": "Cy-Ukk91unRB",
        "outputId": "088773a3-5111-4c7f-9a2a-4f572f541104"
      },
      "execution_count": null,
      "outputs": [
        {
          "output_type": "stream",
          "name": "stdout",
          "text": [
            "hello from nida\n",
            "print from function\n"
          ]
        }
      ]
    },
    {
      "cell_type": "markdown",
      "source": [
        "while loop"
      ],
      "metadata": {
        "id": "laROA-RXvkwg"
      }
    },
    {
      "cell_type": "code",
      "source": [
        "  # while loop\n",
        "  i = 0\n",
        "  while i < 10:\n",
        "    print(i)\n",
        "    i+=1"
      ],
      "metadata": {
        "colab": {
          "base_uri": "https://localhost:8080/"
        },
        "id": "0hg6VkZxvicB",
        "outputId": "f3a6bbe5-6eb7-4ec8-c5ce-e72f93158daf"
      },
      "execution_count": null,
      "outputs": [
        {
          "output_type": "stream",
          "name": "stdout",
          "text": [
            "0\n",
            "1\n",
            "2\n",
            "3\n",
            "4\n",
            "5\n",
            "6\n",
            "7\n",
            "8\n",
            "9\n"
          ]
        }
      ]
    },
    {
      "cell_type": "code",
      "source": [
        "names = [\"a\",\"b\",\"c\"]\n",
        "for name in names:\n",
        "  print(name)"
      ],
      "metadata": {
        "colab": {
          "base_uri": "https://localhost:8080/"
        },
        "id": "eJyfiVXFwedR",
        "outputId": "c9deea89-c396-4177-d56e-961facf64d66"
      },
      "execution_count": null,
      "outputs": [
        {
          "output_type": "stream",
          "name": "stdout",
          "text": [
            "a\n",
            "b\n",
            "c\n"
          ]
        }
      ]
    },
    {
      "cell_type": "code",
      "source": [
        "# User se pehla number input lena\n",
        "num1 = float(input(\"input first no: \"))\n",
        "\n",
        "# User se dusra number input lena\n",
        "num2 = float(input(\"input 2 no: \"))\n",
        "\n",
        "# Dono numbers ko add karna\n",
        "result = num1 + num2\n",
        "\n",
        "# Result ko print karna\n",
        "print(\"sum:\", result)"
      ],
      "metadata": {
        "colab": {
          "base_uri": "https://localhost:8080/"
        },
        "id": "8sPCMTI2L2M_",
        "outputId": "3ea87593-8f08-485d-a0b6-4672ff22b118"
      },
      "execution_count": null,
      "outputs": [
        {
          "output_type": "stream",
          "name": "stdout",
          "text": [
            "input first no: 7\n",
            "input 2 no: 0\n",
            "sum: 7.0\n"
          ]
        }
      ]
    },
    {
      "cell_type": "markdown",
      "source": [
        "Add two no and str convert into int"
      ],
      "metadata": {
        "id": "8EGgmzT4M4mO"
      }
    },
    {
      "cell_type": "code",
      "source": [
        "# User se pehla number input lena\n",
        "num1 = str(input(\"input first no: \"))\n",
        "num1 :int = int (num1)\n",
        "# User se dusra number input lena\n",
        "num2 = str(input(\"input 2 no: \"))\n",
        "num2 :int = int (num2)\n",
        "# Dono numbers ko add karna\n",
        "result = num1 + num2\n",
        "\n",
        "# Result ko print karna\n",
        "print(\"sum:\", result)\n",
        "print(type(result))"
      ],
      "metadata": {
        "colab": {
          "base_uri": "https://localhost:8080/"
        },
        "id": "RfOVGTI-MP6v",
        "outputId": "8657e210-80d7-4f2b-dbf3-b8dcc3f20b27"
      },
      "execution_count": null,
      "outputs": [
        {
          "output_type": "stream",
          "name": "stdout",
          "text": [
            "input first no: 5\n",
            "input 2 no: 3\n",
            "sum: 8\n",
            "<class 'int'>\n"
          ]
        }
      ]
    },
    {
      "cell_type": "markdown",
      "source": [
        "func add two float no"
      ],
      "metadata": {
        "id": "IfAGYHeZWScx"
      }
    },
    {
      "cell_type": "code",
      "source": [
        "# Function to add two numbers\n",
        "def add_numbers():\n",
        "    # User se pehla number input lena\n",
        "    num1 = float(input(\"Pehla number daaliye: \"))\n",
        "\n",
        "    # User se dusra number input lena\n",
        "    num2 = float(input(\"Dusra number daaliye: \"))\n",
        "\n",
        "    # Dono numbers ko add karna\n",
        "    result = num1 + num2\n",
        "\n",
        "    # Result ko return karna\n",
        "    return result\n",
        "\n",
        "# Function ko call karna aur result print karna\n",
        "sum_result = add_numbers()\n",
        "print(\"Dono numbers ka sum hai:\", sum_result)"
      ],
      "metadata": {
        "colab": {
          "base_uri": "https://localhost:8080/"
        },
        "id": "6qfB-JGMNdEu",
        "outputId": "8c16ebf3-5859-4c36-ee5a-f8718cef0578"
      },
      "execution_count": null,
      "outputs": [
        {
          "output_type": "stream",
          "name": "stdout",
          "text": [
            "Pehla number daaliye: 3\n",
            "Dusra number daaliye: 7\n",
            "Dono numbers ka sum hai: 10.0\n"
          ]
        }
      ]
    },
    {
      "cell_type": "markdown",
      "source": [
        "Function convert str into int and add two nunmbers"
      ],
      "metadata": {
        "id": "eisJl9w-V_7i"
      }
    },
    {
      "cell_type": "code",
      "source": [
        "\n",
        "def main():\n",
        "    print(\"This program adds two numbers.\")\n",
        "    num1 : str = input(\"Enter first number: \")\n",
        "    num1 : int = int(num1)\n",
        "    num2  : str = input(\"Enter second number: \")\n",
        "    num2 : int = int(num2)\n",
        "    total : int = num1 + num2\n",
        "    return total\n",
        "# Function ko call karna aur result print karna\n",
        "sum_result = main()\n",
        "print(f\"The result is : {sum_result}\")"
      ],
      "metadata": {
        "colab": {
          "base_uri": "https://localhost:8080/"
        },
        "id": "skBpzqGGOGlv",
        "outputId": "f6a7a314-8a3d-4b93-b783-1b5c6569c303"
      },
      "execution_count": null,
      "outputs": [
        {
          "output_type": "stream",
          "name": "stdout",
          "text": [
            "This program adds two numbers.\n",
            "Enter first number: 5\n",
            "Enter second number: 2\n",
            "The result is : 7\n"
          ]
        }
      ]
    },
    {
      "cell_type": "code",
      "source": [
        "user : str = input(\"What is your favourite animal: \")\n",
        "print(f\"My favourite animal is : {user}\")\n"
      ],
      "metadata": {
        "colab": {
          "base_uri": "https://localhost:8080/"
        },
        "id": "VlWhOYxsVOLB",
        "outputId": "8f6c0db9-9950-4908-bcb6-2b6e3621fa72"
      },
      "execution_count": null,
      "outputs": [
        {
          "output_type": "stream",
          "name": "stdout",
          "text": [
            "What is your favourite animal: cow\n",
            "My favourite animal is : cow\n"
          ]
        }
      ]
    },
    {
      "cell_type": "code",
      "source": [
        "def fav_animal():\n",
        "    # Function description\n",
        "    print(\"This program asks the user for their favorite animal and responds accordingly.\")\n",
        "\n",
        "    # User se favorite animal input lena\n",
        "    user: str = input(\"What's your favorite animal? \")  # Space after prompt\n",
        "    return user\n",
        "\n",
        "# Function ko call karna aur result print karna\n",
        "animal = fav_animal()\n",
        "print(f\"My favorite animal is also {animal}!\")"
      ],
      "metadata": {
        "colab": {
          "base_uri": "https://localhost:8080/"
        },
        "id": "JB5q0p9HcbjK",
        "outputId": "ce12347f-24df-4dbe-a274-740753d57723"
      },
      "execution_count": null,
      "outputs": [
        {
          "output_type": "stream",
          "name": "stdout",
          "text": [
            "This program asks the user for their favorite animal and responds accordingly.\n",
            "What's your favorite animal? **Cow**\n",
            "My favorite animal is also **Cow**!\n"
          ]
        }
      ]
    },
    {
      "cell_type": "code",
      "source": [
        "# Function to convert Fahrenheit to Celsius\n",
        "def fahrenheit_to_celsius(fahrenheit):\n",
        "    celsius = (fahrenheit - 32) * (5 / 9)\n",
        "    return celsius\n",
        "\n",
        "# Input: Ask the user for temperature in Fahrenheit\n",
        "fahrenheit = float(input(\"Enter temperature in Fahrenheit: \"))\n",
        "\n",
        "# Convert to Celsius\n",
        "celsius = fahrenheit_to_celsius(fahrenheit)\n",
        "\n",
        "# Output: Display the result\n",
        "print(f\"{fahrenheit}°F is equal to {celsius:.2f}°C\")"
      ],
      "metadata": {
        "colab": {
          "base_uri": "https://localhost:8080/"
        },
        "id": "d7CIphJDgDNL",
        "outputId": "83c04048-c531-41c3-e0dc-bae024890e3d"
      },
      "execution_count": null,
      "outputs": [
        {
          "output_type": "stream",
          "name": "stdout",
          "text": [
            "Enter temperature in Fahrenheit: 76\n",
            "76.0°F is equal to 24.44°C\n"
          ]
        }
      ]
    },
    {
      "cell_type": "code",
      "source": [
        "user = int(input(\"farenhit\"))\n",
        "convert_f_s : float = float(user)\n",
        "print(convert_f_s)"
      ],
      "metadata": {
        "colab": {
          "base_uri": "https://localhost:8080/"
        },
        "id": "RlP54fOQfykz",
        "outputId": "d72d98bf-5999-4a6f-ebc1-7591a9ddbb8f"
      },
      "execution_count": null,
      "outputs": [
        {
          "output_type": "stream",
          "name": "stdout",
          "text": [
            "farenhit76\n",
            "76.0\n"
          ]
        }
      ]
    }
  ]
}